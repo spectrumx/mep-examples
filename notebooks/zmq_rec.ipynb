{
 "cells": [
  {
   "cell_type": "code",
   "execution_count": 1,
   "id": "6740c014",
   "metadata": {},
   "outputs": [
    {
     "data": {
      "application/javascript": [
       "\n",
       "try {\n",
       "require(['notebook/js/codecell'], function(codecell) {\n",
       "  codecell.CodeCell.options_default.highlight_modes[\n",
       "      'magic_text/x-csrc'] = {'reg':[/^%%microblaze/]};\n",
       "  Jupyter.notebook.events.one('kernel_ready.Kernel', function(){\n",
       "      Jupyter.notebook.get_cells().map(function(cell){\n",
       "          if (cell.cell_type == 'code'){ cell.auto_highlight(); } }) ;\n",
       "  });\n",
       "});\n",
       "} catch (e) {};\n"
      ]
     },
     "metadata": {},
     "output_type": "display_data"
    },
    {
     "data": {
      "application/javascript": [
       "\n",
       "try {\n",
       "require(['notebook/js/codecell'], function(codecell) {\n",
       "  codecell.CodeCell.options_default.highlight_modes[\n",
       "      'magic_text/x-csrc'] = {'reg':[/^%%pybind11/]};\n",
       "  Jupyter.notebook.events.one('kernel_ready.Kernel', function(){\n",
       "      Jupyter.notebook.get_cells().map(function(cell){\n",
       "          if (cell.cell_type == 'code'){ cell.auto_highlight(); } }) ;\n",
       "  });\n",
       "});\n",
       "} catch (e) {};\n"
      ]
     },
     "metadata": {},
     "output_type": "display_data"
    }
   ],
   "source": [
    "import zmq\n",
    "import numpy as np\n",
    "import time\n",
    "import scipy.signal as sig\n",
    "import matplotlib.pyplot as plt\n",
    "import threading\n",
    "from six.moves import queue\n",
    "\n",
    "from rfsoc_qsfp_offload.overlay import Overlay\n",
    "ol = Overlay(ignore_version=True)\n",
    "from pynq import allocate\n"
   ]
  },
  {
   "cell_type": "markdown",
   "id": "9c03aa96",
   "metadata": {},
   "source": [
    "## Set up ZMQ socket\n",
    "\n",
    "The address of the socket should be the computer that is connected to the RFSoC PS via ethernet or USB. Use a port that is open."
   ]
  },
  {
   "cell_type": "code",
   "execution_count": 2,
   "id": "7b42cbee",
   "metadata": {},
   "outputs": [],
   "source": [
    "context = zmq.Context()\n",
    "socket = context.socket(zmq.SUB)\n",
    "socket.connect(\"tcp://10.29.234.35:50241\")\n",
    "# socket.connect(\"tcp://hay-rfsoc-003.mit.edu:55555\") # connect, not bind, the PUB will bind, only 1 can bind\n",
    "socket.setsockopt(zmq.SUBSCRIBE, b'') # subscribe to topic of all (needed or else it won't work)\n"
   ]
  },
  {
   "cell_type": "markdown",
   "id": "70288b04",
   "metadata": {},
   "source": [
    "## Initialize DAC\n",
    "\n",
    "Send in a frequency to the DAC. So far the fastest lowest sample frequency I can send in is 614.4 Msps. "
   ]
  },
  {
   "cell_type": "code",
   "execution_count": 3,
   "id": "ab438b5f",
   "metadata": {},
   "outputs": [],
   "source": [
    "DAC_TILE = 0       # DAC Tile 228\n",
    "DAC_BLOCK = 0       # DAC Block 0\n",
    "DAC_SAMPLE_FREQUENCY = 4915.2/8#4915.2  # MSps\n",
    "DAC_PLL_FREQUENCY = 491.52   # MHz\n",
    "DAC_FC = 0.0\n",
    "\n",
    "ol.initialise_dac(tile=DAC_TILE,\n",
    "                  block=DAC_BLOCK,\n",
    "                  pll_freq=DAC_PLL_FREQUENCY,\n",
    "                  fs=DAC_SAMPLE_FREQUENCY,\n",
    "                  fc=DAC_FC\n",
    "                 )"
   ]
  },
  {
   "cell_type": "code",
   "execution_count": 14,
   "id": "01768bec",
   "metadata": {},
   "outputs": [],
   "source": [
    "def fill_buff(data_queue, data_len,end_tx, up_s, dn_s):\n",
    "    \"\"\"This fills up a queue which will be popped off when it's to be sent to the transmitter. \n",
    "    This function also does rational resampling. There is a counter also to check if there is anything on the zmq socket.\n",
    "    \n",
    "    Parameters\n",
    "    ----------\n",
    "    data_queue : queue\n",
    "        When the buffer is full the data will be added to this queue\n",
    "    data_len : int\n",
    "        Size of the buffer for both I/Q samples.\n",
    "    end_tx : event\n",
    "        This is a threading event that will end the function if set to true.\n",
    "    up_s : int\n",
    "        Amount of upsampling\n",
    "    dn_s : int\n",
    "        Amount of down sampling \n",
    "    \"\"\"\n",
    "    # This is a counter\n",
    "    pnter =0\n",
    "    time_count=1\n",
    "    \n",
    "    print(\"Fill buffer: {0}\".format(end_tx.is_set()))\n",
    "    \n",
    "    while not end_tx.is_set():\n",
    "        if time_count>0:\n",
    "            pnter =0\n",
    "            # set up the buffer that will be added to the queue.\n",
    "            radbuff = np.empty(shape=(data_len), dtype=np.dtype('<i2'))\n",
    "            time_count = 0\n",
    "            \n",
    "        if socket.poll(10) != 0: # check if there is a message on the socket\n",
    "            time_count=0\n",
    "            msg = socket.recv() # grab the message\n",
    "            # Make the numpy array , assume it's interleved shorts.\n",
    "            msg_data = np.frombuffer(msg, dtype=np.dtype('<i2'), count=-1)\n",
    "            # HACK change the data to float to do the resampling.\n",
    "            flt_data = msg_data[::2].astype(np.float32)+1j*msg_data[1::2].astype(np.float32)\n",
    "            interp_data = sig.resample_poly(flt_data,up_s,dn_s)\n",
    "            # Get the data back to interleaved shorts\n",
    "            out_data = np.empty(interp_data.size*2,dtype=np.dtype('<i2'))\n",
    "            out_data[::2] = interp_data.real.astype(np.dtype('<i2'))\n",
    "            out_data[1::2] = interp_data.imag.astype(np.dtype('<i2'))\n",
    "            # updated the pointers and \n",
    "            pnt_end = pnter+len(out_data)\n",
    "            if pnt_end>=data_len:\n",
    "                end_buff = data_len-pnter\n",
    "                radbuff[pnter:] = out_data[:end_buff]\n",
    "                data_queue.put(radbuff)\n",
    "                nleft = len(out_data) - end_buff\n",
    "                radbuff[:nleft] = out_data[end_buff:]\n",
    "                pnter=nleft\n",
    "            else:\n",
    "                radbuff[pnter:pnt_end] = out_data\n",
    "                pnter = pnt_end\n",
    "\n",
    "        else:\n",
    "            time.sleep(0.1)\n",
    "            time_count+=1\n",
    "            if time_count >1000:\n",
    "                print(\"Ending because no data coming through.\")\n",
    "                break\n",
    "    print(\"Buffer filling ended.\")\n"
   ]
  },
  {
   "cell_type": "markdown",
   "id": "ab523e86",
   "metadata": {},
   "source": [
    "## Run thread and tx loop\n",
    "\n",
    "Set up the queue, buffer thread, and tx. The is cell will end gracefully with a control -c, it will end the buffering thread, reading from zmq."
   ]
  },
  {
   "cell_type": "code",
   "execution_count": 13,
   "id": "692c7c79",
   "metadata": {},
   "outputs": [
    {
     "name": "stdout",
     "output_type": "stream",
     "text": [
      "38400000\n",
      "Fill buffer: False\n",
      "Finished\n"
     ]
    }
   ],
   "source": [
    "# This is the fifo that save the samples from the buffer thread.\n",
    "datafifo = queue.Queue()\n",
    "# Create a threading event and set it to false.\n",
    "end_tx = threading.Event()\n",
    "end_tx.clear()\n",
    "data_len = int(DAC_SAMPLE_FREQUENCY*1e6/16)\n",
    "print(data_len)\n",
    "# tx_buffer = allocate(shape=(data_len,), dtype=np.dtype('<i2'))\n",
    "# Upsample by a factor of 16 based off of the gnuradio flowgraph.\n",
    "up_s = 16\n",
    "dn_s = 1\n",
    "read_th = threading.Thread(\n",
    "                target=fill_buff, args=(datafifo, data_len, end_tx,up_s,dn_s)\n",
    "            )\n",
    "read_th.start()\n",
    "read_th.setName(\"Buffer Thread\")\n",
    "\n",
    "\n",
    "while read_th.is_alive():\n",
    "    try:\n",
    "        if not datafifo.empty():\n",
    "            d1 = datafifo.get()\n",
    "            tx_buffer[:] = d1\n",
    "\n",
    "            print(\"Tx out\") # size of msg\n",
    "\n",
    "            ol.axi_dma_dac.sendchannel.transfer(tx_buffer)\n",
    "            time.sleep(.25)\n",
    "            ol.axi_dma_dac.sendchannel.stop()\n",
    "\n",
    "        else:\n",
    "            time.sleep(0.1)\n",
    "    except KeyboardInterrupt:\n",
    "        print(\"Ending transfer.\")\n",
    "    finally:\n",
    "        end_tx.set()  \n",
    "        \n",
    "print(\"Finished\")\n",
    "ol.axi_dma_dac.sendchannel.stop()       \n",
    "    \n",
    "            "
   ]
  },
  {
   "cell_type": "markdown",
   "id": "c778be85",
   "metadata": {},
   "source": [
    "ol.axi_dma_dac.sendchannel.stop()"
   ]
  },
  {
   "cell_type": "code",
   "execution_count": 15,
   "id": "d85dc41d",
   "metadata": {},
   "outputs": [
    {
     "name": "stdout",
     "output_type": "stream",
     "text": [
      "Fill buffer: False\n"
     ]
    }
   ],
   "source": [
    "datafifo = queue.Queue()\n",
    "end_tx = threading.Event()\n",
    "end_tx.clear()\n",
    "data_len = int(DAC_SAMPLE_FREQUENCY*1e6/16)\n",
    "read_th = threading.Thread(\n",
    "                target=fill_buff, args=(datafifo, data_len, end_tx)\n",
    "            )\n",
    "read_th.start()\n",
    "read_th.setName(\"Read Thread\")"
   ]
  },
  {
   "cell_type": "code",
   "execution_count": 3,
   "id": "5651c90b",
   "metadata": {},
   "outputs": [
    {
     "name": "stdout",
     "output_type": "stream",
     "text": [
      "76800000\n"
     ]
    },
    {
     "ename": "RuntimeError",
     "evalue": "Allocate failed: 4294967295",
     "output_type": "error",
     "traceback": [
      "\u001b[0;31m---------------------------------------------------------------------------\u001b[0m",
      "\u001b[0;31mRuntimeError\u001b[0m                              Traceback (most recent call last)",
      "\u001b[0;32m<ipython-input-3-e255bd2ce875>\u001b[0m in \u001b[0;36m<module>\u001b[0;34m\u001b[0m\n\u001b[1;32m      2\u001b[0m \u001b[0mdata_len\u001b[0m \u001b[0;34m=\u001b[0m \u001b[0mint\u001b[0m\u001b[0;34m(\u001b[0m\u001b[0mDAC_SAMPLE_FREQUENCY\u001b[0m\u001b[0;34m*\u001b[0m\u001b[0;36m1e6\u001b[0m\u001b[0;34m/\u001b[0m\u001b[0;36m8\u001b[0m\u001b[0;34m)\u001b[0m\u001b[0;34m\u001b[0m\u001b[0;34m\u001b[0m\u001b[0m\n\u001b[1;32m      3\u001b[0m \u001b[0mprint\u001b[0m\u001b[0;34m(\u001b[0m\u001b[0mdata_len\u001b[0m\u001b[0;34m)\u001b[0m\u001b[0;34m\u001b[0m\u001b[0;34m\u001b[0m\u001b[0m\n\u001b[0;32m----> 4\u001b[0;31m \u001b[0mtx_buffer\u001b[0m \u001b[0;34m=\u001b[0m \u001b[0mallocate\u001b[0m\u001b[0;34m(\u001b[0m\u001b[0mshape\u001b[0m\u001b[0;34m=\u001b[0m\u001b[0;34m(\u001b[0m\u001b[0mdata_len\u001b[0m\u001b[0;34m,\u001b[0m\u001b[0;34m)\u001b[0m\u001b[0;34m,\u001b[0m \u001b[0mdtype\u001b[0m\u001b[0;34m=\u001b[0m\u001b[0mnp\u001b[0m\u001b[0;34m.\u001b[0m\u001b[0mdtype\u001b[0m\u001b[0;34m(\u001b[0m\u001b[0;34m'<i2'\u001b[0m\u001b[0;34m)\u001b[0m\u001b[0;34m)\u001b[0m\u001b[0;34m\u001b[0m\u001b[0;34m\u001b[0m\u001b[0m\n\u001b[0m",
      "\u001b[0;32m/usr/local/share/pynq-venv/lib/python3.8/site-packages/pynq/buffer.py\u001b[0m in \u001b[0;36mallocate\u001b[0;34m(shape, dtype, target, **kwargs)\u001b[0m\n\u001b[1;32m    170\u001b[0m     \u001b[0;32mif\u001b[0m \u001b[0mtarget\u001b[0m \u001b[0;32mis\u001b[0m \u001b[0;32mNone\u001b[0m\u001b[0;34m:\u001b[0m\u001b[0;34m\u001b[0m\u001b[0;34m\u001b[0m\u001b[0m\n\u001b[1;32m    171\u001b[0m         \u001b[0mtarget\u001b[0m \u001b[0;34m=\u001b[0m \u001b[0mDevice\u001b[0m\u001b[0;34m.\u001b[0m\u001b[0mactive_device\u001b[0m\u001b[0;34m\u001b[0m\u001b[0;34m\u001b[0m\u001b[0m\n\u001b[0;32m--> 172\u001b[0;31m     \u001b[0;32mreturn\u001b[0m \u001b[0mtarget\u001b[0m\u001b[0;34m.\u001b[0m\u001b[0mallocate\u001b[0m\u001b[0;34m(\u001b[0m\u001b[0mshape\u001b[0m\u001b[0;34m,\u001b[0m \u001b[0mdtype\u001b[0m\u001b[0;34m,\u001b[0m \u001b[0;34m**\u001b[0m\u001b[0mkwargs\u001b[0m\u001b[0;34m)\u001b[0m\u001b[0;34m\u001b[0m\u001b[0;34m\u001b[0m\u001b[0m\n\u001b[0m",
      "\u001b[0;32m/usr/local/share/pynq-venv/lib/python3.8/site-packages/pynq/pl_server/device.py\u001b[0m in \u001b[0;36mallocate\u001b[0;34m(self, shape, dtype, **kwargs)\u001b[0m\n\u001b[1;32m    290\u001b[0m \u001b[0;34m\u001b[0m\u001b[0m\n\u001b[1;32m    291\u001b[0m         \"\"\"\n\u001b[0;32m--> 292\u001b[0;31m         \u001b[0;32mreturn\u001b[0m \u001b[0mself\u001b[0m\u001b[0;34m.\u001b[0m\u001b[0mdefault_memory\u001b[0m\u001b[0;34m.\u001b[0m\u001b[0mallocate\u001b[0m\u001b[0;34m(\u001b[0m\u001b[0mshape\u001b[0m\u001b[0;34m,\u001b[0m \u001b[0mdtype\u001b[0m\u001b[0;34m,\u001b[0m \u001b[0;34m**\u001b[0m\u001b[0mkwargs\u001b[0m\u001b[0;34m)\u001b[0m\u001b[0;34m\u001b[0m\u001b[0;34m\u001b[0m\u001b[0m\n\u001b[0m\u001b[1;32m    293\u001b[0m \u001b[0;34m\u001b[0m\u001b[0m\n\u001b[1;32m    294\u001b[0m     \u001b[0;32mdef\u001b[0m \u001b[0mreset\u001b[0m\u001b[0;34m(\u001b[0m\u001b[0mself\u001b[0m\u001b[0;34m,\u001b[0m \u001b[0mparser\u001b[0m\u001b[0;34m=\u001b[0m\u001b[0;32mNone\u001b[0m\u001b[0;34m,\u001b[0m \u001b[0mtimestamp\u001b[0m\u001b[0;34m=\u001b[0m\u001b[0;32mNone\u001b[0m\u001b[0;34m,\u001b[0m \u001b[0mbitfile_name\u001b[0m\u001b[0;34m=\u001b[0m\u001b[0;32mNone\u001b[0m\u001b[0;34m)\u001b[0m\u001b[0;34m:\u001b[0m\u001b[0;34m\u001b[0m\u001b[0;34m\u001b[0m\u001b[0m\n",
      "\u001b[0;32m/usr/local/share/pynq-venv/lib/python3.8/site-packages/pynq/pl_server/xrt_device.py\u001b[0m in \u001b[0;36mallocate\u001b[0;34m(self, shape, dtype, **kwargs)\u001b[0m\n\u001b[1;32m    167\u001b[0m \u001b[0;34m\u001b[0m\u001b[0m\n\u001b[1;32m    168\u001b[0m         \"\"\"\n\u001b[0;32m--> 169\u001b[0;31m         \u001b[0mbuf\u001b[0m \u001b[0;34m=\u001b[0m \u001b[0m_xrt_allocate\u001b[0m\u001b[0;34m(\u001b[0m\u001b[0mshape\u001b[0m\u001b[0;34m,\u001b[0m \u001b[0mdtype\u001b[0m\u001b[0;34m,\u001b[0m \u001b[0mself\u001b[0m\u001b[0;34m.\u001b[0m\u001b[0mdevice\u001b[0m\u001b[0;34m,\u001b[0m \u001b[0mself\u001b[0m\u001b[0;34m.\u001b[0m\u001b[0midx\u001b[0m\u001b[0;34m,\u001b[0m \u001b[0;34m**\u001b[0m\u001b[0mkwargs\u001b[0m\u001b[0;34m)\u001b[0m\u001b[0;34m\u001b[0m\u001b[0;34m\u001b[0m\u001b[0m\n\u001b[0m\u001b[1;32m    170\u001b[0m         \u001b[0mbuf\u001b[0m\u001b[0;34m.\u001b[0m\u001b[0mmemory\u001b[0m \u001b[0;34m=\u001b[0m \u001b[0mself\u001b[0m\u001b[0;34m\u001b[0m\u001b[0;34m\u001b[0m\u001b[0m\n\u001b[1;32m    171\u001b[0m         \u001b[0;32mreturn\u001b[0m \u001b[0mbuf\u001b[0m\u001b[0;34m\u001b[0m\u001b[0;34m\u001b[0m\u001b[0m\n",
      "\u001b[0;32m/usr/local/share/pynq-venv/lib/python3.8/site-packages/pynq/pl_server/xrt_device.py\u001b[0m in \u001b[0;36m_xrt_allocate\u001b[0;34m(shape, dtype, device, memidx, cacheable, pointer, cache)\u001b[0m\n\u001b[1;32m    122\u001b[0m         \u001b[0mbo\u001b[0m\u001b[0;34m,\u001b[0m \u001b[0mbuf\u001b[0m\u001b[0;34m,\u001b[0m \u001b[0mdevice_address\u001b[0m \u001b[0;34m=\u001b[0m \u001b[0mpointer\u001b[0m\u001b[0;34m\u001b[0m\u001b[0;34m\u001b[0m\u001b[0m\n\u001b[1;32m    123\u001b[0m     \u001b[0;32melse\u001b[0m\u001b[0;34m:\u001b[0m\u001b[0;34m\u001b[0m\u001b[0;34m\u001b[0m\u001b[0m\n\u001b[0;32m--> 124\u001b[0;31m         \u001b[0mbo\u001b[0m \u001b[0;34m=\u001b[0m \u001b[0mdevice\u001b[0m\u001b[0;34m.\u001b[0m\u001b[0mallocate_bo\u001b[0m\u001b[0;34m(\u001b[0m\u001b[0msize\u001b[0m\u001b[0;34m,\u001b[0m \u001b[0mmemidx\u001b[0m\u001b[0;34m,\u001b[0m \u001b[0mcacheable\u001b[0m\u001b[0;34m)\u001b[0m\u001b[0;34m\u001b[0m\u001b[0;34m\u001b[0m\u001b[0m\n\u001b[0m\u001b[1;32m    125\u001b[0m         \u001b[0mbuf\u001b[0m \u001b[0;34m=\u001b[0m \u001b[0mdevice\u001b[0m\u001b[0;34m.\u001b[0m\u001b[0mmap_bo\u001b[0m\u001b[0;34m(\u001b[0m\u001b[0mbo\u001b[0m\u001b[0;34m)\u001b[0m\u001b[0;34m\u001b[0m\u001b[0;34m\u001b[0m\u001b[0m\n\u001b[1;32m    126\u001b[0m         \u001b[0mdevice_address\u001b[0m \u001b[0;34m=\u001b[0m \u001b[0mdevice\u001b[0m\u001b[0;34m.\u001b[0m\u001b[0mget_device_address\u001b[0m\u001b[0;34m(\u001b[0m\u001b[0mbo\u001b[0m\u001b[0;34m)\u001b[0m\u001b[0;34m\u001b[0m\u001b[0;34m\u001b[0m\u001b[0m\n",
      "\u001b[0;32m/usr/local/share/pynq-venv/lib/python3.8/site-packages/pynq/pl_server/xrt_device.py\u001b[0m in \u001b[0;36mallocate_bo\u001b[0;34m(self, size, idx, cacheable)\u001b[0m\n\u001b[1;32m    412\u001b[0m                             xrt.xclBOKind.XCL_BO_DEVICE_RAM, idx)\n\u001b[1;32m    413\u001b[0m         \u001b[0;32mif\u001b[0m \u001b[0mbo\u001b[0m \u001b[0;34m>=\u001b[0m \u001b[0;36m0x80000000\u001b[0m\u001b[0;34m:\u001b[0m\u001b[0;34m\u001b[0m\u001b[0;34m\u001b[0m\u001b[0m\n\u001b[0;32m--> 414\u001b[0;31m             \u001b[0;32mraise\u001b[0m \u001b[0mRuntimeError\u001b[0m\u001b[0;34m(\u001b[0m\u001b[0;34m\"Allocate failed: \"\u001b[0m \u001b[0;34m+\u001b[0m \u001b[0mstr\u001b[0m\u001b[0;34m(\u001b[0m\u001b[0mbo\u001b[0m\u001b[0;34m)\u001b[0m\u001b[0;34m)\u001b[0m\u001b[0;34m\u001b[0m\u001b[0;34m\u001b[0m\u001b[0m\n\u001b[0m\u001b[1;32m    415\u001b[0m         \u001b[0;32mreturn\u001b[0m \u001b[0mbo\u001b[0m\u001b[0;34m\u001b[0m\u001b[0;34m\u001b[0m\u001b[0m\n\u001b[1;32m    416\u001b[0m \u001b[0;34m\u001b[0m\u001b[0m\n",
      "\u001b[0;31mRuntimeError\u001b[0m: Allocate failed: 4294967295"
     ]
    }
   ],
   "source": [
    "from pynq import allocate\n",
    "data_len = int(DAC_SAMPLE_FREQUENCY*1e6/16)\n",
    "print(data_len)\n",
    "tx_buffer = allocate(shape=(data_len,), dtype=np.dtype('<i2'))\n"
   ]
  },
  {
   "cell_type": "code",
   "execution_count": 13,
   "id": "57328308",
   "metadata": {},
   "outputs": [
    {
     "name": "stdout",
     "output_type": "stream",
     "text": [
      "False\n",
      "True\n"
     ]
    }
   ],
   "source": [
    "end_tx = threading.Event()\n",
    "end_tx.clear()\n",
    "print(end_tx.is_set())\n",
    "end_tx.set()\n",
    "print(end_tx.is_set())"
   ]
  },
  {
   "cell_type": "code",
   "execution_count": 25,
   "id": "a34f796c",
   "metadata": {},
   "outputs": [
    {
     "name": "stdout",
     "output_type": "stream",
     "text": [
      "False\n",
      "False\n",
      "[749 787 749 787 749 787 748 787 748 786]\n",
      "38400000\n"
     ]
    }
   ],
   "source": [
    "print(read_th.is_alive())\n",
    "end_tx.set()\n",
    "print(datafifo.empty())\n",
    "blah = datafifo.get()\n",
    "print(blah[:10])\n",
    "print(len(blah))"
   ]
  }
 ],
 "metadata": {
  "kernelspec": {
   "display_name": "Python 3",
   "language": "python",
   "name": "python3"
  },
  "language_info": {
   "codemirror_mode": {
    "name": "ipython",
    "version": 3
   },
   "file_extension": ".py",
   "mimetype": "text/x-python",
   "name": "python",
   "nbconvert_exporter": "python",
   "pygments_lexer": "ipython3",
   "version": "3.8.2"
  }
 },
 "nbformat": 4,
 "nbformat_minor": 5
}
