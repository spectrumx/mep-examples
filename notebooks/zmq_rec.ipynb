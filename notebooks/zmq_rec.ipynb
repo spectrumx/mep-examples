{
 "cells": [
  {
   "cell_type": "code",
   "execution_count": 8,
   "id": "7b42cbee",
   "metadata": {},
   "outputs": [],
   "source": [
    "import zmq\n",
    "import numpy as np\n",
    "import time\n",
    "import matplotlib.pyplot as plt\n",
    "\n",
    "from rfsoc_qsfp_offload.overlay import Overlay\n",
    "ol = Overlay(ignore_version=True)\n",
    "\n",
    "\n",
    "\n",
    "context = zmq.Context()\n",
    "socket = context.socket(zmq.SUB)\n",
    "socket.connect(\"tcp://10.29.234.35:50241\")\n",
    "# socket.connect(\"tcp://hay-rfsoc-003.mit.edu:55555\") # connect, not bind, the PUB will bind, only 1 can bind\n",
    "socket.setsockopt(zmq.SUBSCRIBE, b'') # subscribe to topic of all (needed or else it won't work)\n",
    "dtype = np.dtype([('r', '<i2'), ('i', '<i2')])\n",
    "\n"
   ]
  },
  {
   "cell_type": "code",
   "execution_count": 9,
   "id": "ab438b5f",
   "metadata": {},
   "outputs": [],
   "source": [
    "DAC_TILE = 0       # DAC Tile 228\n",
    "DAC_BLOCK = 0       # DAC Block 0\n",
    "DAC_SAMPLE_FREQUENCY = 4915.2/8#4915.2  # MSps\n",
    "DAC_PLL_FREQUENCY = 491.52   # MHz\n",
    "DAC_FC = 0.0\n",
    "\n",
    "ol.initialise_dac(tile=DAC_TILE,\n",
    "                  block=DAC_BLOCK,\n",
    "                  pll_freq=DAC_PLL_FREQUENCY,\n",
    "                  fs=DAC_SAMPLE_FREQUENCY,\n",
    "                  fc=DAC_FC\n",
    "                 )"
   ]
  },
  {
   "cell_type": "code",
   "execution_count": 10,
   "id": "692c7c79",
   "metadata": {},
   "outputs": [
    {
     "name": "stdout",
     "output_type": "stream",
     "text": [
      "Tx out\n",
      "Tx out\n",
      "Tx out\n",
      "Tx out\n",
      "Tx out\n",
      "Tx out\n",
      "Tx out\n",
      "Tx out\n",
      "Tx out\n",
      "Tx out\n"
     ]
    },
    {
     "ename": "KeyboardInterrupt",
     "evalue": "",
     "output_type": "error",
     "traceback": [
      "\u001b[0;31m---------------------------------------------------------------------------\u001b[0m",
      "\u001b[0;31mKeyboardInterrupt\u001b[0m                         Traceback (most recent call last)",
      "\u001b[0;32m<ipython-input-10-17805380f5ef>\u001b[0m in \u001b[0;36m<module>\u001b[0;34m\u001b[0m\n\u001b[1;32m     16\u001b[0m             \u001b[0mfirst_buf\u001b[0m\u001b[0;34m=\u001b[0m\u001b[0;32mFalse\u001b[0m\u001b[0;34m\u001b[0m\u001b[0;34m\u001b[0m\u001b[0m\n\u001b[1;32m     17\u001b[0m         \u001b[0mol\u001b[0m\u001b[0;34m.\u001b[0m\u001b[0maxi_dma_dac\u001b[0m\u001b[0;34m.\u001b[0m\u001b[0msendchannel\u001b[0m\u001b[0;34m.\u001b[0m\u001b[0mtransfer\u001b[0m\u001b[0;34m(\u001b[0m\u001b[0mtx_buffer\u001b[0m\u001b[0;34m)\u001b[0m\u001b[0;34m\u001b[0m\u001b[0;34m\u001b[0m\u001b[0m\n\u001b[0;32m---> 18\u001b[0;31m         \u001b[0mtime\u001b[0m\u001b[0;34m.\u001b[0m\u001b[0msleep\u001b[0m\u001b[0;34m(\u001b[0m\u001b[0;36m10.\u001b[0m\u001b[0;34m)\u001b[0m\u001b[0;34m\u001b[0m\u001b[0;34m\u001b[0m\u001b[0m\n\u001b[0m\u001b[1;32m     19\u001b[0m         \u001b[0mol\u001b[0m\u001b[0;34m.\u001b[0m\u001b[0maxi_dma_dac\u001b[0m\u001b[0;34m.\u001b[0m\u001b[0msendchannel\u001b[0m\u001b[0;34m.\u001b[0m\u001b[0mstop\u001b[0m\u001b[0;34m(\u001b[0m\u001b[0;34m)\u001b[0m\u001b[0;34m\u001b[0m\u001b[0;34m\u001b[0m\u001b[0m\n\u001b[1;32m     20\u001b[0m \u001b[0;34m\u001b[0m\u001b[0m\n",
      "\u001b[0;31mKeyboardInterrupt\u001b[0m: "
     ]
    }
   ],
   "source": [
    "\n",
    "from pynq import allocate\n",
    "\n",
    "\n",
    "\n",
    "first_buf = True\n",
    "\n",
    "time_count = 0\n",
    "while True:\n",
    "    if socket.poll(10) != 0: # check if there is a message on the socket\n",
    "        time_count=0\n",
    "        msg = socket.recv() # grab the message\n",
    "        txdata = np.frombuffer(msg, dtype=np.dtype('<i2'), count=-1)\n",
    "        print(\"Tx out\") # size of msg\n",
    "        if first_buf:\n",
    "            tx_buffer = allocate(shape=(txdata.size,), dtype=np.dtype('<i2'))\n",
    "            first_buf=False\n",
    "        ol.axi_dma_dac.sendchannel.transfer(tx_buffer)\n",
    "        time.sleep(10.)\n",
    "        ol.axi_dma_dac.sendchannel.stop()\n",
    "        \n",
    "    else:\n",
    "        time.sleep(0.1)\n",
    "        time_count+=1\n",
    "        if time_count >1000:\n",
    "            if not first_buf:\n",
    "                ol.axi_dma_dac.sendchannel.stop()\n",
    "            break\n",
    "    \n",
    "            "
   ]
  },
  {
   "cell_type": "markdown",
   "id": "c778be85",
   "metadata": {},
   "source": [
    "ol.axi_dma_dac.sendchannel.stop()"
   ]
  },
  {
   "cell_type": "code",
   "execution_count": 11,
   "id": "d85dc41d",
   "metadata": {},
   "outputs": [],
   "source": [
    "ol.axi_dma_dac.sendchannel.stop()"
   ]
  },
  {
   "cell_type": "code",
   "execution_count": 12,
   "id": "5651c90b",
   "metadata": {},
   "outputs": [],
   "source": [
    "ol.axi_dma_dac.sendchannel.stop()"
   ]
  },
  {
   "cell_type": "code",
   "execution_count": null,
   "id": "57328308",
   "metadata": {},
   "outputs": [],
   "source": []
  }
 ],
 "metadata": {
  "kernelspec": {
   "display_name": "Python 3",
   "language": "python",
   "name": "python3"
  },
  "language_info": {
   "codemirror_mode": {
    "name": "ipython",
    "version": 3
   },
   "file_extension": ".py",
   "mimetype": "text/x-python",
   "name": "python",
   "nbconvert_exporter": "python",
   "pygments_lexer": "ipython3",
   "version": "3.8.2"
  }
 },
 "nbformat": 4,
 "nbformat_minor": 5
}
