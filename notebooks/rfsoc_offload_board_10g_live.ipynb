{
 "cells": [
  {
   "cell_type": "code",
   "execution_count": 2,
   "id": "9c0e4ae8-c974-47bc-85ee-efb0b7de790c",
   "metadata": {},
   "outputs": [
    {
     "name": "stdout",
     "output_type": "stream",
     "text": [
      "Initializing RFSoC QSFP Offload Overlay\n"
     ]
    },
    {
     "data": {
      "application/json": {
       "HWaddr": "00:0a:35:02:9d:63",
       "Mask": "255.255.255.0",
       "gateway addr": "192.168.4.1",
       "inet addr": "192.168.4.99"
      },
      "text/plain": [
       "{'HWaddr': '00:0a:35:02:9d:63',\n",
       " 'inet addr': '192.168.4.99',\n",
       " 'gateway addr': '192.168.4.1',\n",
       " 'Mask': '255.255.255.0'}"
      ]
     },
     "execution_count": 2,
     "metadata": {
      "application/json": {
       "expanded": false,
       "root": "Network Information"
      }
     },
     "output_type": "execute_result"
    }
   ],
   "source": [
    "import time\n",
    "\n",
    "from rfsoc_qsfp_offload.overlay import Overlay\n",
    "\n",
    "print(\"Initializing RFSoC QSFP Offload Overlay\")\n",
    "ol = Overlay(ignore_version=True)\n",
    "# Wait for overlay to initialize\n",
    "time.sleep(5)\n",
    "\n",
    "ol.cmac.mmio.write(0x107C, 0x3) # RSFEC_CONFIG_ENABLE\n",
    "ol.cmac.mmio.write(0x1000, 0x7) # RSFEC_CONFIG_INDICATION_CORRECTION\n",
    "\n",
    "ol.cmac.start()\n",
    "\n",
    "board_ip = '192.168.4.99'\n",
    "ol.netlayer.set_ip_address(board_ip, debug=True)"
   ]
  },
  {
   "cell_type": "code",
   "execution_count": 3,
   "id": "fe73790d-2204-4047-85b7-95fdea9d9276",
   "metadata": {},
   "outputs": [],
   "source": [
    "client_ip = '192.168.4.1'\n",
    "ol.netlayer.sockets[0] = (client_ip, 60133, 60133, True)\n",
    "\n",
    "ol.netlayer.populate_socket_table()\n",
    "\n",
    "ol.source_select(1) # 0 - DMA | 1 - RF-ADC"
   ]
  },
  {
   "cell_type": "markdown",
   "id": "d06e360f-553d-4932-9336-74bf82d6c786",
   "metadata": {},
   "source": [
    "## Configure ADC"
   ]
  },
  {
   "cell_type": "code",
   "execution_count": 4,
   "id": "70e9a39d-edfc-4d5f-a98e-f6b590ed783e",
   "metadata": {},
   "outputs": [
    {
     "name": "stdout",
     "output_type": "stream",
     "text": [
      "['ClockSource', 'DumpRegs', 'DynamicPLLConfig', 'FIFOStatus', 'FabClkOutDiv', 'GetFIFOStatusObs', 'PLLConfig', 'PLLLockStatus', 'Reset', 'SetupFIFO', 'SetupFIFOBoth', 'SetupFIFOObs', 'ShutDown', 'StartUp', '__class__', '__delattr__', '__dict__', '__dir__', '__doc__', '__eq__', '__format__', '__ge__', '__getattribute__', '__gt__', '__hash__', '__init__', '__init_subclass__', '__le__', '__lt__', '__module__', '__ne__', '__new__', '__reduce__', '__reduce_ex__', '__repr__', '__setattr__', '__sizeof__', '__str__', '__subclasshook__', '__weakref__', '_call_function', '_call_function_implicit', '_index', '_parent', '_type', 'blocks']\n"
     ]
    }
   ],
   "source": [
    "ADC_TILE = 2       # ADC Tile 226\n",
    "ADC_BLOCK = 0       # ADC Block 0\n",
    "#ADC_SAMPLE_FREQUENCY = 1000  # MSps\n",
    "#ADC_SAMPLE_FREQUENCY = 1966.08# MSps\n",
    "ADC_SAMPLE_FREQUENCY = 1228.8 # MSps\n",
    "ADC_PLL_FREQUENCY    = 491.52   # MHz\n",
    "ADC_FC = 0e6 # Centering around middle of sample rate\n",
    "\n",
    "ol.initialise_adc(tile=ADC_TILE,\n",
    "                  block=ADC_BLOCK,\n",
    "                  pll_freq=ADC_PLL_FREQUENCY,\n",
    "                  fs=ADC_SAMPLE_FREQUENCY,\n",
    "                  fc=ADC_FC)\n",
    "\n",
    "# Decimate by (16,5) 76.8MHz\n",
    "ol.set_decimation(tile=ADC_TILE,block=ADC_BLOCK,sample_rate=307200000.0)\n",
    "# Decimate by (8,4)\n",
    "#ol.set_decimation(tile=ADC_TILE,block=ADC_BLOCK,sample_rate=614400000.0) \n",
    "# Decimate by (4,3)\n",
    "#ol.set_decimation(tile=ADC_TILE,block=ADC_BLOCK,sample_rate=1228800000.0) \n",
    "# Decimate by (4,3)\n",
    "#ol.set_decimation(tile=ADC_TILE,block=ADC_BLOCK,sample_rate=2457600000.0) \n",
    "\n",
    "# Set packet size\n",
    "ol.packet_generator.packetsize = 128 # 128 * 64 bytes = 8192 bytes to be sent\n",
    "ol.packet_generator.enable()"
   ]
  },
  {
   "cell_type": "markdown",
   "id": "30c6d35b-f6c4-4e05-b77d-0e4dd4c46d55",
   "metadata": {},
   "source": [
    "## Configure DAC"
   ]
  },
  {
   "cell_type": "code",
   "execution_count": 5,
   "id": "451a1282-c8f9-4768-85ed-92f3b28bb39c",
   "metadata": {},
   "outputs": [],
   "source": [
    "DAC_TILE = 0       # DAC Tile 228\n",
    "DAC_BLOCK = 0       # DAC Block 0\n",
    "#DAC_SAMPLE_FREQUENCY = 1966.08  # MSps\n",
    "DAC_SAMPLE_FREQUENCY = 1228.8  # MSps\n",
    "DAC_PLL_FREQUENCY = 491.52   # MHz\n",
    "DAC_FC = 0e6\n",
    "\n",
    "ol.initialise_dac(tile=DAC_TILE,\n",
    "                  block=DAC_BLOCK,\n",
    "                  pll_freq=DAC_PLL_FREQUENCY,\n",
    "                  fs=DAC_SAMPLE_FREQUENCY,\n",
    "                  fc=DAC_FC\n",
    "                 )\n"
   ]
  },
  {
   "cell_type": "code",
   "execution_count": 6,
   "id": "ee7b89c0-d4c0-430e-a10a-3943190d53ca",
   "metadata": {},
   "outputs": [],
   "source": [
    "from rfsoc_qsfp_offload import signal_generator\n",
    "import numpy as np\n",
    "from pynq import allocate\n",
    "\n",
    "\n",
    "sin_data = signal_generator.sine(f=10.2e6, fs=DAC_SAMPLE_FREQUENCY*1e6/4)\n",
    "#sin_data = signal_generator.sine(f=81.6e6, fs=DAC_SAMPLE_FREQUENCY*1e6/4)\n",
    "sin_data = signal_generator.convert_to_int16(sin_data)\n",
    "\n",
    "zero_data = np.zeros(sin_data.size, np.int16)\n",
    "interleaved = np.empty((sin_data.size + zero_data.size,), dtype=sin_data.dtype)\n",
    "interleaved[0::2] = sin_data\n",
    "interleaved[1::2] = zero_data\n",
    "\n",
    "# Send signal to DAC over DMA\n",
    "tx_buffer = allocate(shape=(interleaved.size,), dtype=np.int16)\n",
    "tx_buffer[:] = interleaved\n",
    "ol.axi_dma_dac.sendchannel.transfer(tx_buffer, cyclic=True)\n",
    "\n",
    "#ol.rfdc.dac_tiles[0].blocks[0].MixerSettings['Freq'] = 1"
   ]
  },
  {
   "cell_type": "code",
   "execution_count": 7,
   "id": "51aa1417-1c83-4fa1-845c-f227a2b5cdf7",
   "metadata": {},
   "outputs": [
    {
     "data": {
      "application/vnd.jupyter.widget-view+json": {
       "model_id": "20ede5bc71084dfa847a9c9bc0585571",
       "version_major": 2,
       "version_minor": 0
      },
      "text/plain": [
       "FigureWidget({\n",
       "    'data': [{'type': 'scatter',\n",
       "              'uid': '3aa8650a-a2ee-4d94-97cd-80cd9868616e',\n",
       " …"
      ]
     },
     "metadata": {},
     "output_type": "display_data"
    }
   ],
   "source": [
    "import plotly.graph_objs as go\n",
    "go.FigureWidget(go.Scatter(y=sin_data[1:8192]))"
   ]
  },
  {
   "cell_type": "code",
   "execution_count": 13,
   "id": "ceae4c98-444c-4677-b2c2-6042f112cd1b",
   "metadata": {},
   "outputs": [],
   "source": [
    "ol.rfdc.dac_tiles[0].blocks[0].MixerSettings['Freq'] = .1 # MHz"
   ]
  },
  {
   "cell_type": "markdown",
   "id": "604690fa-e252-4e49-9872-73e70f0fe8c1",
   "metadata": {},
   "source": [
    "### Shutdown the Packet Generator and DMA\n",
    "\n",
    "Make sure to stop the packet generator and DMA by running the cell below"
   ]
  },
  {
   "cell_type": "code",
   "execution_count": 13,
   "id": "94646443-c02d-4531-b090-d77d025e2ab8",
   "metadata": {},
   "outputs": [],
   "source": [
    "ol.packet_generator.disable()\n",
    "ol.axi_dma_dac.sendchannel.stop()"
   ]
  },
  {
   "cell_type": "code",
   "execution_count": null,
   "id": "a81e85f2-db91-4b84-a828-8ae1e0071ebb",
   "metadata": {},
   "outputs": [],
   "source": []
  }
 ],
 "metadata": {
  "kernelspec": {
   "display_name": "Python 3 (ipykernel)",
   "language": "python",
   "name": "python3"
  },
  "language_info": {
   "codemirror_mode": {
    "name": "ipython",
    "version": 3
   },
   "file_extension": ".py",
   "mimetype": "text/x-python",
   "name": "python",
   "nbconvert_exporter": "python",
   "pygments_lexer": "ipython3",
   "version": "3.10.4"
  }
 },
 "nbformat": 4,
 "nbformat_minor": 5
}
