{
 "cells": [
  {
   "cell_type": "code",
   "execution_count": 1,
   "id": "6740c014",
   "metadata": {},
   "outputs": [
    {
     "data": {
      "application/javascript": [
       "\n",
       "try {\n",
       "require(['notebook/js/codecell'], function(codecell) {\n",
       "  codecell.CodeCell.options_default.highlight_modes[\n",
       "      'magic_text/x-csrc'] = {'reg':[/^%%microblaze/]};\n",
       "  Jupyter.notebook.events.one('kernel_ready.Kernel', function(){\n",
       "      Jupyter.notebook.get_cells().map(function(cell){\n",
       "          if (cell.cell_type == 'code'){ cell.auto_highlight(); } }) ;\n",
       "  });\n",
       "});\n",
       "} catch (e) {};\n"
      ]
     },
     "metadata": {},
     "output_type": "display_data"
    },
    {
     "data": {
      "application/javascript": [
       "\n",
       "try {\n",
       "require(['notebook/js/codecell'], function(codecell) {\n",
       "  codecell.CodeCell.options_default.highlight_modes[\n",
       "      'magic_text/x-csrc'] = {'reg':[/^%%pybind11/]};\n",
       "  Jupyter.notebook.events.one('kernel_ready.Kernel', function(){\n",
       "      Jupyter.notebook.get_cells().map(function(cell){\n",
       "          if (cell.cell_type == 'code'){ cell.auto_highlight(); } }) ;\n",
       "  });\n",
       "});\n",
       "} catch (e) {};\n"
      ]
     },
     "metadata": {},
     "output_type": "display_data"
    }
   ],
   "source": [
    "import zmq\n",
    "import numpy as np\n",
    "import time\n",
    "import scipy.signal as sig\n",
    "import matplotlib.pyplot as plt\n",
    "import threading\n",
    "from six.moves import queue\n",
    "\n",
    "from rfsoc_qsfp_offload.overlay import Overlay\n",
    "ol = Overlay(ignore_version=True)\n",
    "from pynq import allocate\n"
   ]
  },
  {
   "cell_type": "markdown",
   "id": "9c03aa96",
   "metadata": {},
   "source": [
    "## Set up ZMQ socket\n",
    "\n",
    "The address of the socket should be the computer that is connected to the RFSoC PS via ethernet or USB. Use a port that is open."
   ]
  },
  {
   "cell_type": "code",
   "execution_count": 2,
   "id": "7b42cbee",
   "metadata": {},
   "outputs": [],
   "source": [
    "context = zmq.Context()\n",
    "socket = context.socket(zmq.SUB)\n",
    "socket.connect(\"tcp://10.31.158.62:50241\")\n",
    "# socket.connect(\"tcp://hay-rfsoc-003.mit.edu:55555\") # connect, not bind, the PUB will bind, only 1 can bind\n",
    "socket.setsockopt(zmq.SUBSCRIBE, b'') # subscribe to topic of all (needed or else it won't work)\n"
   ]
  },
  {
   "cell_type": "markdown",
   "id": "70288b04",
   "metadata": {},
   "source": [
    "## Initialize DAC\n",
    "\n",
    "Send in a frequency to the DAC. So far the fastest lowest sample frequency I can send in is 614.4 Msps with a 4x interpolation. Currently everything with this overlay will get a 4x interpolation. So make sure your sample rate is 153.6 Msps before you "
   ]
  },
  {
   "cell_type": "code",
   "execution_count": 3,
   "id": "ab438b5f",
   "metadata": {},
   "outputs": [],
   "source": [
    "DAC_TILE = 0       # DAC Tile 228\n",
    "DAC_BLOCK = 0       # DAC Block 0\n",
    "DAC_SAMPLE_FREQUENCY = 4915.2/8#4915.2  # MSps\n",
    "DAC_PLL_FREQUENCY = 491.52   # MHz\n",
    "DAC_FC = 0\n",
    "\n",
    "\n",
    "# HACK This is the center frequency in MHz change this!\n",
    "cf = 1006\n",
    "\n",
    "# Hack change this if the data coming from zmq is not 38.4 MHz\n",
    "# Upsample by a factor of 16 based off of the gnuradio flowgraph.\n",
    "# The final sampling frequency needs to 153.6 MHz\n",
    "up_s = 4\n",
    "dn_s = 1\n",
    "ol.initialise_dac(tile=DAC_TILE,\n",
    "                  block=DAC_BLOCK,\n",
    "                  pll_freq=DAC_PLL_FREQUENCY,\n",
    "                  fs=DAC_SAMPLE_FREQUENCY,\n",
    "                  fc=DAC_FC\n",
    "                 )"
   ]
  },
  {
   "cell_type": "code",
   "execution_count": 4,
   "id": "01768bec",
   "metadata": {},
   "outputs": [],
   "source": [
    "def fill_buff(data_queue, data_len,end_tx, up_s, dn_s):\n",
    "    \"\"\"This fills up a queue which will be popped off when it's to be sent to the transmitter. \n",
    "    This function also does rational resampling. There is a counter also to check if there is anything on the zmq socket.\n",
    "    \n",
    "    Parameters\n",
    "    ----------\n",
    "    data_queue : queue\n",
    "        When the buffer is full the data will be added to this queue\n",
    "    data_len : int\n",
    "        Size of the buffer for both I/Q samples.\n",
    "    end_tx : event\n",
    "        This is a threading event that will end the function if set to true.\n",
    "    up_s : int\n",
    "        Amount of upsampling\n",
    "    dn_s : int\n",
    "        Amount of down sampling \n",
    "    \"\"\"\n",
    "    # This is a counter\n",
    "    pnter =0\n",
    "    time_count=1\n",
    "    \n",
    "    print(\"Fill buffer: {0}\".format(end_tx.is_set()))\n",
    "    \n",
    "    while not end_tx.is_set():\n",
    "        if time_count>0:\n",
    "            pnter =0\n",
    "            # set up the buffer that will be added to the queue.\n",
    "            radbuff = np.empty(shape=(data_len), dtype=np.dtype('<i2'))\n",
    "            time_count = 0\n",
    "            \n",
    "        if socket.poll(10) != 0: # check if there is a message on the socket\n",
    "            time_count=0\n",
    "            msg = socket.recv() # grab the message\n",
    "            # Make the numpy array , assume it's interleved shorts.\n",
    "            msg_data = np.frombuffer(msg, dtype=np.dtype('<i2'), count=-1)\n",
    "            # HACK change the data to float to do the resampling.\n",
    "            flt_data = msg_data[::2].astype(np.float32)+1j*msg_data[1::2].astype(np.float32)\n",
    "            interp_data = sig.resample_poly(flt_data,up_s,dn_s)\n",
    "            # Get the data back to interleaved shorts\n",
    "            out_data = np.empty(interp_data.size*2,dtype=np.dtype('<i2'))\n",
    "            out_data[::2] = interp_data.real.astype(np.dtype('<i2'))\n",
    "            out_data[1::2] = interp_data.imag.astype(np.dtype('<i2'))\n",
    "            # updated the pointers and \n",
    "            pnt_end = pnter+len(out_data)\n",
    "            if pnt_end>=data_len:\n",
    "                end_buff = data_len-pnter\n",
    "                radbuff[pnter:] = out_data[:end_buff]\n",
    "                data_queue.put(radbuff)\n",
    "                nleft = len(out_data) - end_buff\n",
    "                radbuff[:nleft] = out_data[end_buff:]\n",
    "                pnter=nleft\n",
    "            else:\n",
    "                radbuff[pnter:pnt_end] = out_data\n",
    "                pnter = pnt_end\n",
    "\n",
    "        else:\n",
    "            time.sleep(0.1)\n",
    "            time_count+=1\n",
    "            if time_count >1000:\n",
    "                print(\"Ending because no data coming through.\")\n",
    "                break\n",
    "    print(\"Buffer filling ended.\")\n"
   ]
  },
  {
   "cell_type": "markdown",
   "id": "ab523e86",
   "metadata": {},
   "source": [
    "## Run thread and tx loop\n",
    "\n",
    "Set up the queue, buffer thread, and tx. The is cell will end gracefully with a control -c, it will end the buffering thread, reading from zmq."
   ]
  },
  {
   "cell_type": "code",
   "execution_count": 6,
   "id": "692c7c79",
   "metadata": {},
   "outputs": [
    {
     "name": "stdout",
     "output_type": "stream",
     "text": [
      "38400000\n",
      "Fill buffer: False\n"
     ]
    },
    {
     "name": "stderr",
     "output_type": "stream",
     "text": [
      "/tmp/ipykernel_2072/552742239.py:19: DeprecationWarning: setName() is deprecated, set the name attribute instead\n",
      "  read_th.setName(\"Buffer Thread\")\n"
     ]
    },
    {
     "name": "stdout",
     "output_type": "stream",
     "text": [
      "Tx out\n",
      "Tx out\n",
      "Tx out\n",
      "Tx out\n",
      "Tx out\n",
      "Tx out\n",
      "Tx out\n",
      "Tx out\n",
      "Tx out\n",
      "Tx out\n",
      "Tx out\n",
      "Tx out\n",
      "Tx out\n",
      "Tx out\n",
      "Tx out\n",
      "Tx out\n",
      "Tx out\n",
      "Tx out\n",
      "Tx out\n",
      "Tx out\n",
      "Tx out\n",
      "Tx out\n",
      "Tx out\n",
      "Tx out\n",
      "Tx out\n",
      "Tx out\n",
      "Tx out\n",
      "Tx out\n",
      "Tx out\n",
      "Tx out\n",
      "Tx out\n",
      "Tx out\n",
      "Tx out\n",
      "Tx out\n",
      "Tx out\n",
      "Tx out\n",
      "Tx out\n",
      "Ending transfer.\n",
      "in finally\n",
      "Finished\n",
      "Buffer filling ended.\n"
     ]
    }
   ],
   "source": [
    "# This is the fifo that save the samples from the buffer thread.\n",
    "datafifo = queue.Queue()\n",
    "# Create a threading event and set it to false.\n",
    "end_tx = threading.Event()\n",
    "end_tx.clear()\n",
    "data_len = int(DAC_SAMPLE_FREQUENCY*1e6/16)\n",
    "print(data_len)\n",
    "if 'tx_buffer' in locals():\n",
    "    pass\n",
    "else:\n",
    "    tx_buffer = allocate(shape=(data_len,), dtype=np.dtype('<i2'))\n",
    "\n",
    "read_th = threading.Thread(\n",
    "                target=fill_buff, args=(datafifo, data_len, end_tx,up_s,dn_s)\n",
    "            )\n",
    "read_th.start()\n",
    "read_th.setName(\"Buffer Thread\")\n",
    "\n",
    "dma_running = False\n",
    "ol.rfdc.dac_tiles[0].blocks[0].MixerSettings['Freq'] = cf\n",
    "\n",
    "try:\n",
    "    while read_th.is_alive():\n",
    "        if not datafifo.empty():\n",
    "            d1 = datafifo.get()\n",
    "            tx_buffer[:] = d1\n",
    "\n",
    "            print(\"Tx out\") # size of msg\n",
    "            if dma_running:\n",
    "                ol.axi_dma_dac.sendchannel.stop()\n",
    "                time.sleep(0.0625)\n",
    "                dma_running = False\n",
    "            ol.axi_dma_dac.sendchannel.transfer(tx_buffer,cyclic=True)\n",
    "            dma_running=True\n",
    "            \n",
    "        else:\n",
    "            time.sleep(0.1)\n",
    "except RuntimeError as ex:    \n",
    "    print(\"Runtime error in receive: %s\", ex)\n",
    "except KeyboardInterrupt:\n",
    "    print(\"Ending transfer.\")\n",
    "finally:\n",
    "    print(\"in finally\")\n",
    "    end_tx.set()  \n",
    "\n",
    "print(\"Finished\")\n",
    "ol.axi_dma_dac.sendchannel.stop()       \n",
    "ol.rfdc.dac_tiles[0].blocks[0].MixerSettings['Freq'] = 0\n",
    "            "
   ]
  },
  {
   "cell_type": "markdown",
   "id": "c778be85",
   "metadata": {},
   "source": [
    "ol.axi_dma_dac.sendchannel.stop()"
   ]
  }
 ],
 "metadata": {
  "kernelspec": {
   "display_name": "Python 3 (ipykernel)",
   "language": "python",
   "name": "python3"
  },
  "language_info": {
   "codemirror_mode": {
    "name": "ipython",
    "version": 3
   },
   "file_extension": ".py",
   "mimetype": "text/x-python",
   "name": "python",
   "nbconvert_exporter": "python",
   "pygments_lexer": "ipython3",
   "version": "3.10.4"
  }
 },
 "nbformat": 4,
 "nbformat_minor": 5
}
